{
 "cells": [
  {
   "cell_type": "markdown",
   "metadata": {},
   "source": [
    "### Note\n",
    "* Instructions have been included for each segment. You do not have to follow them exactly, but they are included to help you think through the steps."
   ]
  },
  {
   "cell_type": "code",
   "execution_count": 6,
   "metadata": {},
   "outputs": [],
   "source": [
    "import pandas as pd\n",
    "import numpy as np"
   ]
  },
  {
   "cell_type": "code",
   "execution_count": 7,
   "metadata": {},
   "outputs": [
    {
     "output_type": "execute_result",
     "data": {
      "text/plain": "   School ID            school_name      type  size   budget\n0          0      Huang High School  District  2917  1910635\n1          1   Figueroa High School  District  2949  1884411\n2          2    Shelton High School   Charter  1761  1056600\n3          3  Hernandez High School  District  4635  3022020\n4          4    Griffin High School   Charter  1468   917500",
      "text/html": "<div>\n<style scoped>\n    .dataframe tbody tr th:only-of-type {\n        vertical-align: middle;\n    }\n\n    .dataframe tbody tr th {\n        vertical-align: top;\n    }\n\n    .dataframe thead th {\n        text-align: right;\n    }\n</style>\n<table border=\"1\" class=\"dataframe\">\n  <thead>\n    <tr style=\"text-align: right;\">\n      <th></th>\n      <th>School ID</th>\n      <th>school_name</th>\n      <th>type</th>\n      <th>size</th>\n      <th>budget</th>\n    </tr>\n  </thead>\n  <tbody>\n    <tr>\n      <th>0</th>\n      <td>0</td>\n      <td>Huang High School</td>\n      <td>District</td>\n      <td>2917</td>\n      <td>1910635</td>\n    </tr>\n    <tr>\n      <th>1</th>\n      <td>1</td>\n      <td>Figueroa High School</td>\n      <td>District</td>\n      <td>2949</td>\n      <td>1884411</td>\n    </tr>\n    <tr>\n      <th>2</th>\n      <td>2</td>\n      <td>Shelton High School</td>\n      <td>Charter</td>\n      <td>1761</td>\n      <td>1056600</td>\n    </tr>\n    <tr>\n      <th>3</th>\n      <td>3</td>\n      <td>Hernandez High School</td>\n      <td>District</td>\n      <td>4635</td>\n      <td>3022020</td>\n    </tr>\n    <tr>\n      <th>4</th>\n      <td>4</td>\n      <td>Griffin High School</td>\n      <td>Charter</td>\n      <td>1468</td>\n      <td>917500</td>\n    </tr>\n  </tbody>\n</table>\n</div>"
     },
     "metadata": {},
     "execution_count": 7
    }
   ],
   "source": [
    "school_data = \"Resources/schools_complete.csv\"\n",
    "school_data_df = pd.read_csv(school_data)\n",
    "school_data_df.head()\n"
   ]
  },
  {
   "cell_type": "code",
   "execution_count": 8,
   "metadata": {},
   "outputs": [
    {
     "output_type": "execute_result",
     "data": {
      "text/plain": "   Student ID       student_name gender grade        school_name  \\\n0           0       Paul Bradley      M   9th  Huang High School   \n1           1       Victor Smith      M  12th  Huang High School   \n2           2    Kevin Rodriguez      M  12th  Huang High School   \n3           3  Dr. Richard Scott      M  12th  Huang High School   \n4           4         Bonnie Ray      F   9th  Huang High School   \n\n   reading_score  math_score  \n0             66          79  \n1             94          61  \n2             90          60  \n3             67          58  \n4             97          84  ",
      "text/html": "<div>\n<style scoped>\n    .dataframe tbody tr th:only-of-type {\n        vertical-align: middle;\n    }\n\n    .dataframe tbody tr th {\n        vertical-align: top;\n    }\n\n    .dataframe thead th {\n        text-align: right;\n    }\n</style>\n<table border=\"1\" class=\"dataframe\">\n  <thead>\n    <tr style=\"text-align: right;\">\n      <th></th>\n      <th>Student ID</th>\n      <th>student_name</th>\n      <th>gender</th>\n      <th>grade</th>\n      <th>school_name</th>\n      <th>reading_score</th>\n      <th>math_score</th>\n    </tr>\n  </thead>\n  <tbody>\n    <tr>\n      <th>0</th>\n      <td>0</td>\n      <td>Paul Bradley</td>\n      <td>M</td>\n      <td>9th</td>\n      <td>Huang High School</td>\n      <td>66</td>\n      <td>79</td>\n    </tr>\n    <tr>\n      <th>1</th>\n      <td>1</td>\n      <td>Victor Smith</td>\n      <td>M</td>\n      <td>12th</td>\n      <td>Huang High School</td>\n      <td>94</td>\n      <td>61</td>\n    </tr>\n    <tr>\n      <th>2</th>\n      <td>2</td>\n      <td>Kevin Rodriguez</td>\n      <td>M</td>\n      <td>12th</td>\n      <td>Huang High School</td>\n      <td>90</td>\n      <td>60</td>\n    </tr>\n    <tr>\n      <th>3</th>\n      <td>3</td>\n      <td>Dr. Richard Scott</td>\n      <td>M</td>\n      <td>12th</td>\n      <td>Huang High School</td>\n      <td>67</td>\n      <td>58</td>\n    </tr>\n    <tr>\n      <th>4</th>\n      <td>4</td>\n      <td>Bonnie Ray</td>\n      <td>F</td>\n      <td>9th</td>\n      <td>Huang High School</td>\n      <td>97</td>\n      <td>84</td>\n    </tr>\n  </tbody>\n</table>\n</div>"
     },
     "metadata": {},
     "execution_count": 8
    }
   ],
   "source": [
    "student_data = \"Resources/students_complete.csv\"\n",
    "student_data_df = pd.read_csv(student_data)\n",
    "student_data_df.head()"
   ]
  },
  {
   "cell_type": "code",
   "execution_count": 9,
   "metadata": {},
   "outputs": [
    {
     "output_type": "execute_result",
     "data": {
      "text/plain": "   Student ID       student_name gender grade        school_name  \\\n0           0       Paul Bradley      M   9th  Huang High School   \n1           1       Victor Smith      M  12th  Huang High School   \n2           2    Kevin Rodriguez      M  12th  Huang High School   \n3           3  Dr. Richard Scott      M  12th  Huang High School   \n4           4         Bonnie Ray      F   9th  Huang High School   \n\n   reading_score  math_score  School ID      type  size   budget  \n0             66          79          0  District  2917  1910635  \n1             94          61          0  District  2917  1910635  \n2             90          60          0  District  2917  1910635  \n3             67          58          0  District  2917  1910635  \n4             97          84          0  District  2917  1910635  ",
      "text/html": "<div>\n<style scoped>\n    .dataframe tbody tr th:only-of-type {\n        vertical-align: middle;\n    }\n\n    .dataframe tbody tr th {\n        vertical-align: top;\n    }\n\n    .dataframe thead th {\n        text-align: right;\n    }\n</style>\n<table border=\"1\" class=\"dataframe\">\n  <thead>\n    <tr style=\"text-align: right;\">\n      <th></th>\n      <th>Student ID</th>\n      <th>student_name</th>\n      <th>gender</th>\n      <th>grade</th>\n      <th>school_name</th>\n      <th>reading_score</th>\n      <th>math_score</th>\n      <th>School ID</th>\n      <th>type</th>\n      <th>size</th>\n      <th>budget</th>\n    </tr>\n  </thead>\n  <tbody>\n    <tr>\n      <th>0</th>\n      <td>0</td>\n      <td>Paul Bradley</td>\n      <td>M</td>\n      <td>9th</td>\n      <td>Huang High School</td>\n      <td>66</td>\n      <td>79</td>\n      <td>0</td>\n      <td>District</td>\n      <td>2917</td>\n      <td>1910635</td>\n    </tr>\n    <tr>\n      <th>1</th>\n      <td>1</td>\n      <td>Victor Smith</td>\n      <td>M</td>\n      <td>12th</td>\n      <td>Huang High School</td>\n      <td>94</td>\n      <td>61</td>\n      <td>0</td>\n      <td>District</td>\n      <td>2917</td>\n      <td>1910635</td>\n    </tr>\n    <tr>\n      <th>2</th>\n      <td>2</td>\n      <td>Kevin Rodriguez</td>\n      <td>M</td>\n      <td>12th</td>\n      <td>Huang High School</td>\n      <td>90</td>\n      <td>60</td>\n      <td>0</td>\n      <td>District</td>\n      <td>2917</td>\n      <td>1910635</td>\n    </tr>\n    <tr>\n      <th>3</th>\n      <td>3</td>\n      <td>Dr. Richard Scott</td>\n      <td>M</td>\n      <td>12th</td>\n      <td>Huang High School</td>\n      <td>67</td>\n      <td>58</td>\n      <td>0</td>\n      <td>District</td>\n      <td>2917</td>\n      <td>1910635</td>\n    </tr>\n    <tr>\n      <th>4</th>\n      <td>4</td>\n      <td>Bonnie Ray</td>\n      <td>F</td>\n      <td>9th</td>\n      <td>Huang High School</td>\n      <td>97</td>\n      <td>84</td>\n      <td>0</td>\n      <td>District</td>\n      <td>2917</td>\n      <td>1910635</td>\n    </tr>\n  </tbody>\n</table>\n</div>"
     },
     "metadata": {},
     "execution_count": 9
    }
   ],
   "source": [
    "# Combine the data into a single dataset.  \n",
    "school_data_complete = pd.merge(student_data_df, school_data_df, on= \"school_name\")\n",
    "school_data_complete.head()"
   ]
  },
  {
   "cell_type": "code",
   "execution_count": 10,
   "metadata": {},
   "outputs": [
    {
     "output_type": "execute_result",
     "data": {
      "text/plain": "15"
     },
     "metadata": {},
     "execution_count": 10
    }
   ],
   "source": [
    "total_schools=len(school_data_complete[\"school_name\"].unique())\n",
    "total_schools"
   ]
  },
  {
   "cell_type": "code",
   "execution_count": 11,
   "metadata": {},
   "outputs": [
    {
     "output_type": "execute_result",
     "data": {
      "text/plain": "39170"
     },
     "metadata": {},
     "execution_count": 11
    }
   ],
   "source": [
    "total_students=len(school_data_complete[\"student_name\"])\n",
    "total_students"
   ]
  },
  {
   "cell_type": "code",
   "execution_count": 12,
   "metadata": {},
   "outputs": [
    {
     "output_type": "execute_result",
     "data": {
      "text/plain": "24649428"
     },
     "metadata": {},
     "execution_count": 12
    }
   ],
   "source": [
    "total_budget=sum(school_data_complete[\"budget\"].unique())\n",
    "\n",
    "total_budget"
   ]
  },
  {
   "cell_type": "code",
   "execution_count": 13,
   "metadata": {},
   "outputs": [
    {
     "output_type": "execute_result",
     "data": {
      "text/plain": "78.99"
     },
     "metadata": {},
     "execution_count": 13
    }
   ],
   "source": [
    "average_math_score=round(school_data_complete[\"math_score\"].mean(), 2)\n",
    "average_math_score"
   ]
  },
  {
   "cell_type": "code",
   "execution_count": 14,
   "metadata": {},
   "outputs": [
    {
     "output_type": "execute_result",
     "data": {
      "text/plain": "81.88"
     },
     "metadata": {},
     "execution_count": 14
    }
   ],
   "source": [
    "average_reading_score=round(school_data_complete[\"reading_score\"].mean(), 2)\n",
    "average_reading_score"
   ]
  },
  {
   "cell_type": "code",
   "execution_count": 15,
   "metadata": {},
   "outputs": [
    {
     "output_type": "execute_result",
     "data": {
      "text/plain": "29370"
     },
     "metadata": {},
     "execution_count": 15
    }
   ],
   "source": [
    "passing_math=sum(school_data_complete[\"math_score\"].ge(70))\n",
    "passing_math\n"
   ]
  },
  {
   "cell_type": "code",
   "execution_count": 16,
   "metadata": {},
   "outputs": [
    {
     "output_type": "execute_result",
     "data": {
      "text/plain": "74.98"
     },
     "metadata": {},
     "execution_count": 16
    }
   ],
   "source": [
    "percent_passing_math=round((passing_math/total_students)*100, 2)\n",
    "percent_passing_math"
   ]
  },
  {
   "cell_type": "code",
   "execution_count": 17,
   "metadata": {},
   "outputs": [
    {
     "output_type": "execute_result",
     "data": {
      "text/plain": "33610"
     },
     "metadata": {},
     "execution_count": 17
    }
   ],
   "source": [
    "passing_reading=sum(school_data_complete[\"reading_score\"].ge(70))\n",
    "passing_reading"
   ]
  },
  {
   "cell_type": "code",
   "execution_count": 18,
   "metadata": {},
   "outputs": [
    {
     "output_type": "execute_result",
     "data": {
      "text/plain": "85.81"
     },
     "metadata": {},
     "execution_count": 18
    }
   ],
   "source": [
    "percent_passing_reading=round((passing_reading/total_students)*100, 2)\n",
    "percent_passing_reading"
   ]
  },
  {
   "cell_type": "code",
   "execution_count": 19,
   "metadata": {},
   "outputs": [
    {
     "output_type": "execute_result",
     "data": {
      "text/plain": "25528"
     },
     "metadata": {},
     "execution_count": 19
    }
   ],
   "source": [
    "# caluclate percentage of students who passed math and reading\n",
    "passing_math_and_reading=len(school_data_complete[(school_data_complete[\"math_score\"] >= 70) & (school_data_complete[\"reading_score\"] >= 70)])\n",
    "passing_math_and_reading\n"
   ]
  },
  {
   "cell_type": "code",
   "execution_count": 20,
   "metadata": {},
   "outputs": [
    {
     "output_type": "execute_result",
     "data": {
      "text/plain": "65.17"
     },
     "metadata": {},
     "execution_count": 20
    }
   ],
   "source": [
    "percent_overall = round((passing_math_and_reading / total_students)*100, 2)\n",
    "percent_overall"
   ]
  },
  {
   "cell_type": "code",
   "execution_count": 21,
   "metadata": {},
   "outputs": [
    {
     "output_type": "execute_result",
     "data": {
      "text/plain": "   Total Schools  Total Students  Total Budget  Average Math Score  \\\n0             15           39170      24649428               78.99   \n\n   Average Reading Score  % Passing Math  % Passing Reading  % Overall Passing  \n0                  81.88           74.98              85.81              65.17  ",
      "text/html": "<div>\n<style scoped>\n    .dataframe tbody tr th:only-of-type {\n        vertical-align: middle;\n    }\n\n    .dataframe tbody tr th {\n        vertical-align: top;\n    }\n\n    .dataframe thead th {\n        text-align: right;\n    }\n</style>\n<table border=\"1\" class=\"dataframe\">\n  <thead>\n    <tr style=\"text-align: right;\">\n      <th></th>\n      <th>Total Schools</th>\n      <th>Total Students</th>\n      <th>Total Budget</th>\n      <th>Average Math Score</th>\n      <th>Average Reading Score</th>\n      <th>% Passing Math</th>\n      <th>% Passing Reading</th>\n      <th>% Overall Passing</th>\n    </tr>\n  </thead>\n  <tbody>\n    <tr>\n      <th>0</th>\n      <td>15</td>\n      <td>39170</td>\n      <td>24649428</td>\n      <td>78.99</td>\n      <td>81.88</td>\n      <td>74.98</td>\n      <td>85.81</td>\n      <td>65.17</td>\n    </tr>\n  </tbody>\n</table>\n</div>"
     },
     "metadata": {},
     "execution_count": 21
    }
   ],
   "source": [
    "district_summary = pd.DataFrame ({\"Total Schools\": [total_schools],\n",
    "                                \"Total Students\": [total_students], \n",
    "                                \"Total Budget\": [total_budget],\n",
    "                                \"Average Math Score\": [average_math_score],                                               \"Average Reading Score\": [average_reading_score],\n",
    "                                \"% Passing Math\": [percent_passing_math],\n",
    "                                \"% Passing Reading\": [percent_passing_reading],\n",
    "                                \"% Overall Passing\": [percent_overall]})\n",
    "\n",
    "\n",
    "district_summary"
   ]
  },
  {
   "cell_type": "code",
   "execution_count": 22,
   "metadata": {
    "tags": []
   },
   "outputs": [
    {
     "output_type": "stream",
     "name": "stdout",
     "text": "<pandas.core.groupby.generic.DataFrameGroupBy object at 0x7ff9a9dc4a50>\n"
    },
    {
     "output_type": "execute_result",
     "data": {
      "text/plain": "                    Student ID       student_name gender grade  reading_score  \\\nschool_name                                                                     \nHuang High School            0       Paul Bradley      M   9th             66   \nHuang High School            1       Victor Smith      M  12th             94   \nHuang High School            2    Kevin Rodriguez      M  12th             90   \nHuang High School            3  Dr. Richard Scott      M  12th             67   \nHuang High School            4         Bonnie Ray      F   9th             97   \n...                        ...                ...    ...   ...            ...   \nThomas High School       37535         Norma Mata      F  10th             76   \nThomas High School       37536        Cody Miller      M  11th             84   \nThomas High School       37537        Erik Snyder      M   9th             80   \nThomas High School       37538     Tanya Martinez      F   9th             71   \nThomas High School       37539      Noah Erickson      M   9th             86   \n\n                    math_score  School ID      type  size   budget  \nschool_name                                                         \nHuang High School           79          0  District  2917  1910635  \nHuang High School           61          0  District  2917  1910635  \nHuang High School           60          0  District  2917  1910635  \nHuang High School           58          0  District  2917  1910635  \nHuang High School           84          0  District  2917  1910635  \n...                        ...        ...       ...   ...      ...  \nThomas High School          76         14   Charter  1635  1043130  \nThomas High School          82         14   Charter  1635  1043130  \nThomas High School          90         14   Charter  1635  1043130  \nThomas High School          69         14   Charter  1635  1043130  \nThomas High School          76         14   Charter  1635  1043130  \n\n[75 rows x 10 columns]",
      "text/html": "<div>\n<style scoped>\n    .dataframe tbody tr th:only-of-type {\n        vertical-align: middle;\n    }\n\n    .dataframe tbody tr th {\n        vertical-align: top;\n    }\n\n    .dataframe thead th {\n        text-align: right;\n    }\n</style>\n<table border=\"1\" class=\"dataframe\">\n  <thead>\n    <tr style=\"text-align: right;\">\n      <th></th>\n      <th>Student ID</th>\n      <th>student_name</th>\n      <th>gender</th>\n      <th>grade</th>\n      <th>reading_score</th>\n      <th>math_score</th>\n      <th>School ID</th>\n      <th>type</th>\n      <th>size</th>\n      <th>budget</th>\n    </tr>\n    <tr>\n      <th>school_name</th>\n      <th></th>\n      <th></th>\n      <th></th>\n      <th></th>\n      <th></th>\n      <th></th>\n      <th></th>\n      <th></th>\n      <th></th>\n      <th></th>\n    </tr>\n  </thead>\n  <tbody>\n    <tr>\n      <th>Huang High School</th>\n      <td>0</td>\n      <td>Paul Bradley</td>\n      <td>M</td>\n      <td>9th</td>\n      <td>66</td>\n      <td>79</td>\n      <td>0</td>\n      <td>District</td>\n      <td>2917</td>\n      <td>1910635</td>\n    </tr>\n    <tr>\n      <th>Huang High School</th>\n      <td>1</td>\n      <td>Victor Smith</td>\n      <td>M</td>\n      <td>12th</td>\n      <td>94</td>\n      <td>61</td>\n      <td>0</td>\n      <td>District</td>\n      <td>2917</td>\n      <td>1910635</td>\n    </tr>\n    <tr>\n      <th>Huang High School</th>\n      <td>2</td>\n      <td>Kevin Rodriguez</td>\n      <td>M</td>\n      <td>12th</td>\n      <td>90</td>\n      <td>60</td>\n      <td>0</td>\n      <td>District</td>\n      <td>2917</td>\n      <td>1910635</td>\n    </tr>\n    <tr>\n      <th>Huang High School</th>\n      <td>3</td>\n      <td>Dr. Richard Scott</td>\n      <td>M</td>\n      <td>12th</td>\n      <td>67</td>\n      <td>58</td>\n      <td>0</td>\n      <td>District</td>\n      <td>2917</td>\n      <td>1910635</td>\n    </tr>\n    <tr>\n      <th>Huang High School</th>\n      <td>4</td>\n      <td>Bonnie Ray</td>\n      <td>F</td>\n      <td>9th</td>\n      <td>97</td>\n      <td>84</td>\n      <td>0</td>\n      <td>District</td>\n      <td>2917</td>\n      <td>1910635</td>\n    </tr>\n    <tr>\n      <th>...</th>\n      <td>...</td>\n      <td>...</td>\n      <td>...</td>\n      <td>...</td>\n      <td>...</td>\n      <td>...</td>\n      <td>...</td>\n      <td>...</td>\n      <td>...</td>\n      <td>...</td>\n    </tr>\n    <tr>\n      <th>Thomas High School</th>\n      <td>37535</td>\n      <td>Norma Mata</td>\n      <td>F</td>\n      <td>10th</td>\n      <td>76</td>\n      <td>76</td>\n      <td>14</td>\n      <td>Charter</td>\n      <td>1635</td>\n      <td>1043130</td>\n    </tr>\n    <tr>\n      <th>Thomas High School</th>\n      <td>37536</td>\n      <td>Cody Miller</td>\n      <td>M</td>\n      <td>11th</td>\n      <td>84</td>\n      <td>82</td>\n      <td>14</td>\n      <td>Charter</td>\n      <td>1635</td>\n      <td>1043130</td>\n    </tr>\n    <tr>\n      <th>Thomas High School</th>\n      <td>37537</td>\n      <td>Erik Snyder</td>\n      <td>M</td>\n      <td>9th</td>\n      <td>80</td>\n      <td>90</td>\n      <td>14</td>\n      <td>Charter</td>\n      <td>1635</td>\n      <td>1043130</td>\n    </tr>\n    <tr>\n      <th>Thomas High School</th>\n      <td>37538</td>\n      <td>Tanya Martinez</td>\n      <td>F</td>\n      <td>9th</td>\n      <td>71</td>\n      <td>69</td>\n      <td>14</td>\n      <td>Charter</td>\n      <td>1635</td>\n      <td>1043130</td>\n    </tr>\n    <tr>\n      <th>Thomas High School</th>\n      <td>37539</td>\n      <td>Noah Erickson</td>\n      <td>M</td>\n      <td>9th</td>\n      <td>86</td>\n      <td>76</td>\n      <td>14</td>\n      <td>Charter</td>\n      <td>1635</td>\n      <td>1043130</td>\n    </tr>\n  </tbody>\n</table>\n<p>75 rows × 10 columns</p>\n</div>"
     },
     "metadata": {},
     "execution_count": 22
    }
   ],
   "source": [
    "school_names=school_data_complete.set_index(\"school_name\").groupby([\"school_name\"])\n",
    "print(school_names)\n",
    "school_names.head()\n"
   ]
  },
  {
   "cell_type": "code",
   "execution_count": 23,
   "metadata": {},
   "outputs": [
    {
     "output_type": "execute_result",
     "data": {
      "text/plain": "school_name\nBailey High School       District\nCabrera High School       Charter\nFigueroa High School     District\nFord High School         District\nGriffin High School       Charter\nHernandez High School    District\nHolden High School        Charter\nHuang High School        District\nJohnson High School      District\nPena High School          Charter\nRodriguez High School    District\nShelton High School       Charter\nThomas High School        Charter\nWilson High School        Charter\nWright High School        Charter\nName: type, dtype: object"
     },
     "metadata": {},
     "execution_count": 23
    }
   ],
   "source": [
    "school_type=school_names[\"type\"].first()\n",
    "school_type"
   ]
  },
  {
   "cell_type": "code",
   "execution_count": 24,
   "metadata": {},
   "outputs": [
    {
     "output_type": "execute_result",
     "data": {
      "text/plain": "school_name\nBailey High School       4976\nCabrera High School      1858\nFigueroa High School     2949\nFord High School         2739\nGriffin High School      1468\nHernandez High School    4635\nHolden High School        427\nHuang High School        2917\nJohnson High School      4761\nPena High School          962\nRodriguez High School    3999\nShelton High School      1761\nThomas High School       1635\nWilson High School       2283\nWright High School       1800\nName: student_name, dtype: int64"
     },
     "metadata": {},
     "execution_count": 24
    }
   ],
   "source": [
    "total_students_per_school=school_names[\"student_name\"].count()\n",
    "total_students_per_school"
   ]
  },
  {
   "cell_type": "code",
   "execution_count": 25,
   "metadata": {
    "tags": []
   },
   "outputs": [
    {
     "output_type": "execute_result",
     "data": {
      "text/plain": "school_name\nBailey High School       3124928\nCabrera High School      1081356\nFigueroa High School     1884411\nFord High School         1763916\nGriffin High School       917500\nHernandez High School    3022020\nHolden High School        248087\nHuang High School        1910635\nJohnson High School      3094650\nPena High School          585858\nRodriguez High School    2547363\nShelton High School      1056600\nThomas High School       1043130\nWilson High School       1319574\nWright High School       1049400\nName: budget, dtype: int64"
     },
     "metadata": {},
     "execution_count": 25
    }
   ],
   "source": [
    "total_school_budget=school_names[\"budget\"].first()\n",
    "total_school_budget\n"
   ]
  },
  {
   "cell_type": "code",
   "execution_count": 26,
   "metadata": {},
   "outputs": [
    {
     "output_type": "execute_result",
     "data": {
      "text/plain": "school_name\nBailey High School       628.0\nCabrera High School      582.0\nFigueroa High School     639.0\nFord High School         644.0\nGriffin High School      625.0\nHernandez High School    652.0\nHolden High School       581.0\nHuang High School        655.0\nJohnson High School      650.0\nPena High School         609.0\nRodriguez High School    637.0\nShelton High School      600.0\nThomas High School       638.0\nWilson High School       578.0\nWright High School       583.0\ndtype: float64"
     },
     "metadata": {},
     "execution_count": 26
    }
   ],
   "source": [
    "per_student_budget = total_school_budget / total_students_per_school\n",
    "per_student_budget"
   ]
  },
  {
   "cell_type": "code",
   "execution_count": 27,
   "metadata": {},
   "outputs": [
    {
     "output_type": "execute_result",
     "data": {
      "text/plain": "school_name\nBailey High School       77.05\nCabrera High School      83.06\nFigueroa High School     76.71\nFord High School         77.10\nGriffin High School      83.35\nHernandez High School    77.29\nHolden High School       83.80\nHuang High School        76.63\nJohnson High School      77.07\nPena High School         83.84\nRodriguez High School    76.84\nShelton High School      83.36\nThomas High School       83.42\nWilson High School       83.27\nWright High School       83.68\nName: math_score, dtype: float64"
     },
     "metadata": {},
     "execution_count": 27
    }
   ],
   "source": [
    "average_math_score_per_school=round(school_names[\"math_score\"].mean(), 2)\n",
    "average_math_score_per_school\n"
   ]
  },
  {
   "cell_type": "code",
   "execution_count": 28,
   "metadata": {},
   "outputs": [
    {
     "output_type": "execute_result",
     "data": {
      "text/plain": "school_name\nBailey High School       81.03\nCabrera High School      83.98\nFigueroa High School     81.16\nFord High School         80.75\nGriffin High School      83.82\nHernandez High School    80.93\nHolden High School       83.81\nHuang High School        81.18\nJohnson High School      80.97\nPena High School         84.04\nRodriguez High School    80.74\nShelton High School      83.73\nThomas High School       83.85\nWilson High School       83.99\nWright High School       83.96\nName: reading_score, dtype: float64"
     },
     "metadata": {},
     "execution_count": 28
    }
   ],
   "source": [
    "average_reading_score_per_school=round(school_names[\"reading_score\"].mean(), 2)\n",
    "average_reading_score_per_school"
   ]
  },
  {
   "cell_type": "code",
   "execution_count": 29,
   "metadata": {},
   "outputs": [
    {
     "output_type": "execute_result",
     "data": {
      "text/plain": "school_name\nBailey High School       3318\nCabrera High School      1749\nFigueroa High School     1946\nFord High School         1871\nGriffin High School      1371\nHernandez High School    3094\nHolden High School        395\nHuang High School        1916\nJohnson High School      3145\nPena High School          910\nRodriguez High School    2654\nShelton High School      1653\nThomas High School       1525\nWilson High School       2143\nWright High School       1680\nName: student_name, dtype: int64"
     },
     "metadata": {},
     "execution_count": 29
    }
   ],
   "source": [
    "passing_math_per_school=school_data_complete[school_data_complete[\"math_score\"]>=70].groupby(\"school_name\")[\"student_name\"].count()\n",
    "passing_math_per_school\n",
    "\n",
    "\n",
    "\n"
   ]
  },
  {
   "cell_type": "code",
   "execution_count": 30,
   "metadata": {},
   "outputs": [
    {
     "output_type": "execute_result",
     "data": {
      "text/plain": "school_name\nBailey High School       0.666801\nCabrera High School      0.941335\nFigueroa High School     0.659885\nFord High School         0.683096\nGriffin High School      0.933924\nHernandez High School    0.667530\nHolden High School       0.925059\nHuang High School        0.656839\nJohnson High School      0.660576\nPena High School         0.945946\nRodriguez High School    0.663666\nShelton High School      0.938671\nThomas High School       0.932722\nWilson High School       0.938677\nWright High School       0.933333\nName: student_name, dtype: float64"
     },
     "metadata": {},
     "execution_count": 30
    }
   ],
   "source": [
    "percent_passing_math_per_school=passing_math_per_school/total_students_per_school\n",
    "percent_passing_math_per_school"
   ]
  },
  {
   "cell_type": "code",
   "execution_count": 31,
   "metadata": {},
   "outputs": [
    {
     "output_type": "execute_result",
     "data": {
      "text/plain": "school_name\nBailey High School       4077\nCabrera High School      1803\nFigueroa High School     2381\nFord High School         2172\nGriffin High School      1426\nHernandez High School    3748\nHolden High School        411\nHuang High School        2372\nJohnson High School      3867\nPena High School          923\nRodriguez High School    3208\nShelton High School      1688\nThomas High School       1591\nWilson High School       2204\nWright High School       1739\nName: student_name, dtype: int64"
     },
     "metadata": {},
     "execution_count": 31
    }
   ],
   "source": [
    "passing_reading_per_school=school_data_complete[school_data_complete[\"reading_score\"]>=70].groupby(\"school_name\")[\"student_name\"].count()\n",
    "passing_reading_per_school"
   ]
  },
  {
   "cell_type": "code",
   "execution_count": 32,
   "metadata": {},
   "outputs": [
    {
     "output_type": "execute_result",
     "data": {
      "text/plain": "school_name\nBailey High School       0.819333\nCabrera High School      0.970398\nFigueroa High School     0.807392\nFord High School         0.792990\nGriffin High School      0.971390\nHernandez High School    0.808630\nHolden High School       0.962529\nHuang High School        0.813164\nJohnson High School      0.812224\nPena High School         0.959459\nRodriguez High School    0.802201\nShelton High School      0.958546\nThomas High School       0.973089\nWilson High School       0.965396\nWright High School       0.966111\nName: student_name, dtype: float64"
     },
     "metadata": {},
     "execution_count": 32
    }
   ],
   "source": [
    "percent_passing_reading_per_school=passing_reading_per_school/total_students_per_school\n",
    "percent_passing_reading_per_school"
   ]
  },
  {
   "cell_type": "code",
   "execution_count": 33,
   "metadata": {},
   "outputs": [
    {
     "output_type": "execute_result",
     "data": {
      "text/plain": "school_name\nBailey High School       2719\nCabrera High School      1697\nFigueroa High School     1569\nFord High School         1487\nGriffin High School      1330\nHernandez High School    2481\nHolden High School        381\nHuang High School        1561\nJohnson High School      2549\nPena High School          871\nRodriguez High School    2119\nShelton High School      1583\nThomas High School       1487\nWilson High School       2068\nWright High School       1626\nName: student_name, dtype: int64"
     },
     "metadata": {},
     "execution_count": 33
    }
   ],
   "source": [
    "overall_per_school=school_data_complete[(school_data_complete[\"reading_score\"] >= 70) & (school_data_complete[\"math_score\"] >= 70)].groupby(\"school_name\")[\"student_name\"].count()\n",
    "overall_per_school"
   ]
  },
  {
   "cell_type": "code",
   "execution_count": 34,
   "metadata": {},
   "outputs": [
    {
     "output_type": "execute_result",
     "data": {
      "text/plain": "school_name\nBailey High School       0.546423\nCabrera High School      0.913348\nFigueroa High School     0.532045\nFord High School         0.542899\nGriffin High School      0.905995\nHernandez High School    0.535275\nHolden High School       0.892272\nHuang High School        0.535139\nJohnson High School      0.535392\nPena High School         0.905405\nRodriguez High School    0.529882\nShelton High School      0.898921\nThomas High School       0.909480\nWilson High School       0.905826\nWright High School       0.903333\nName: student_name, dtype: float64"
     },
     "metadata": {},
     "execution_count": 34
    }
   ],
   "source": [
    "overall_percent_passing=(overall_per_school/total_students_per_school)\n",
    "overall_percent_passing"
   ]
  },
  {
   "cell_type": "code",
   "execution_count": 35,
   "metadata": {},
   "outputs": [
    {
     "output_type": "execute_result",
     "data": {
      "text/plain": "                      School Type  Total Students Total School Budget  \\\nschool_name                                                             \nBailey High School       District            4976       $3,124,928.00   \nCabrera High School       Charter            1858       $1,081,356.00   \nFigueroa High School     District            2949       $1,884,411.00   \nFord High School         District            2739       $1,763,916.00   \nGriffin High School       Charter            1468         $917,500.00   \nHernandez High School    District            4635       $3,022,020.00   \nHolden High School        Charter             427         $248,087.00   \nHuang High School        District            2917       $1,910,635.00   \nJohnson High School      District            4761       $3,094,650.00   \nPena High School          Charter             962         $585,858.00   \nRodriguez High School    District            3999       $2,547,363.00   \nShelton High School       Charter            1761       $1,056,600.00   \nThomas High School        Charter            1635       $1,043,130.00   \nWilson High School        Charter            2283       $1,319,574.00   \nWright High School        Charter            1800       $1,049,400.00   \n\n                      Per Student Budget  Average Math Score  \\\nschool_name                                                    \nBailey High School               $628.00               77.05   \nCabrera High School              $582.00               83.06   \nFigueroa High School             $639.00               76.71   \nFord High School                 $644.00               77.10   \nGriffin High School              $625.00               83.35   \nHernandez High School            $652.00               77.29   \nHolden High School               $581.00               83.80   \nHuang High School                $655.00               76.63   \nJohnson High School              $650.00               77.07   \nPena High School                 $609.00               83.84   \nRodriguez High School            $637.00               76.84   \nShelton High School              $600.00               83.36   \nThomas High School               $638.00               83.42   \nWilson High School               $578.00               83.27   \nWright High School               $583.00               83.68   \n\n                       Average Reading Score % Passing Math % Passing Reading  \\\nschool_name                                                                     \nBailey High School                     81.03          66.7%             81.9%   \nCabrera High School                    83.98          94.1%             97.0%   \nFigueroa High School                   81.16          66.0%             80.7%   \nFord High School                       80.75          68.3%             79.3%   \nGriffin High School                    83.82          93.4%             97.1%   \nHernandez High School                  80.93          66.8%             80.9%   \nHolden High School                     83.81          92.5%             96.3%   \nHuang High School                      81.18          65.7%             81.3%   \nJohnson High School                    80.97          66.1%             81.2%   \nPena High School                       84.04          94.6%             95.9%   \nRodriguez High School                  80.74          66.4%             80.2%   \nShelton High School                    83.73          93.9%             95.9%   \nThomas High School                     83.85          93.3%             97.3%   \nWilson High School                     83.99          93.9%             96.5%   \nWright High School                     83.96          93.3%             96.6%   \n\n                      % Overall Passing  \nschool_name                              \nBailey High School                54.6%  \nCabrera High School               91.3%  \nFigueroa High School              53.2%  \nFord High School                  54.3%  \nGriffin High School               90.6%  \nHernandez High School             53.5%  \nHolden High School                89.2%  \nHuang High School                 53.5%  \nJohnson High School               53.5%  \nPena High School                  90.5%  \nRodriguez High School             53.0%  \nShelton High School               89.9%  \nThomas High School                90.9%  \nWilson High School                90.6%  \nWright High School                90.3%  ",
      "text/html": "<div>\n<style scoped>\n    .dataframe tbody tr th:only-of-type {\n        vertical-align: middle;\n    }\n\n    .dataframe tbody tr th {\n        vertical-align: top;\n    }\n\n    .dataframe thead th {\n        text-align: right;\n    }\n</style>\n<table border=\"1\" class=\"dataframe\">\n  <thead>\n    <tr style=\"text-align: right;\">\n      <th></th>\n      <th>School Type</th>\n      <th>Total Students</th>\n      <th>Total School Budget</th>\n      <th>Per Student Budget</th>\n      <th>Average Math Score</th>\n      <th>Average Reading Score</th>\n      <th>% Passing Math</th>\n      <th>% Passing Reading</th>\n      <th>% Overall Passing</th>\n    </tr>\n    <tr>\n      <th>school_name</th>\n      <th></th>\n      <th></th>\n      <th></th>\n      <th></th>\n      <th></th>\n      <th></th>\n      <th></th>\n      <th></th>\n      <th></th>\n    </tr>\n  </thead>\n  <tbody>\n    <tr>\n      <th>Bailey High School</th>\n      <td>District</td>\n      <td>4976</td>\n      <td>$3,124,928.00</td>\n      <td>$628.00</td>\n      <td>77.05</td>\n      <td>81.03</td>\n      <td>66.7%</td>\n      <td>81.9%</td>\n      <td>54.6%</td>\n    </tr>\n    <tr>\n      <th>Cabrera High School</th>\n      <td>Charter</td>\n      <td>1858</td>\n      <td>$1,081,356.00</td>\n      <td>$582.00</td>\n      <td>83.06</td>\n      <td>83.98</td>\n      <td>94.1%</td>\n      <td>97.0%</td>\n      <td>91.3%</td>\n    </tr>\n    <tr>\n      <th>Figueroa High School</th>\n      <td>District</td>\n      <td>2949</td>\n      <td>$1,884,411.00</td>\n      <td>$639.00</td>\n      <td>76.71</td>\n      <td>81.16</td>\n      <td>66.0%</td>\n      <td>80.7%</td>\n      <td>53.2%</td>\n    </tr>\n    <tr>\n      <th>Ford High School</th>\n      <td>District</td>\n      <td>2739</td>\n      <td>$1,763,916.00</td>\n      <td>$644.00</td>\n      <td>77.10</td>\n      <td>80.75</td>\n      <td>68.3%</td>\n      <td>79.3%</td>\n      <td>54.3%</td>\n    </tr>\n    <tr>\n      <th>Griffin High School</th>\n      <td>Charter</td>\n      <td>1468</td>\n      <td>$917,500.00</td>\n      <td>$625.00</td>\n      <td>83.35</td>\n      <td>83.82</td>\n      <td>93.4%</td>\n      <td>97.1%</td>\n      <td>90.6%</td>\n    </tr>\n    <tr>\n      <th>Hernandez High School</th>\n      <td>District</td>\n      <td>4635</td>\n      <td>$3,022,020.00</td>\n      <td>$652.00</td>\n      <td>77.29</td>\n      <td>80.93</td>\n      <td>66.8%</td>\n      <td>80.9%</td>\n      <td>53.5%</td>\n    </tr>\n    <tr>\n      <th>Holden High School</th>\n      <td>Charter</td>\n      <td>427</td>\n      <td>$248,087.00</td>\n      <td>$581.00</td>\n      <td>83.80</td>\n      <td>83.81</td>\n      <td>92.5%</td>\n      <td>96.3%</td>\n      <td>89.2%</td>\n    </tr>\n    <tr>\n      <th>Huang High School</th>\n      <td>District</td>\n      <td>2917</td>\n      <td>$1,910,635.00</td>\n      <td>$655.00</td>\n      <td>76.63</td>\n      <td>81.18</td>\n      <td>65.7%</td>\n      <td>81.3%</td>\n      <td>53.5%</td>\n    </tr>\n    <tr>\n      <th>Johnson High School</th>\n      <td>District</td>\n      <td>4761</td>\n      <td>$3,094,650.00</td>\n      <td>$650.00</td>\n      <td>77.07</td>\n      <td>80.97</td>\n      <td>66.1%</td>\n      <td>81.2%</td>\n      <td>53.5%</td>\n    </tr>\n    <tr>\n      <th>Pena High School</th>\n      <td>Charter</td>\n      <td>962</td>\n      <td>$585,858.00</td>\n      <td>$609.00</td>\n      <td>83.84</td>\n      <td>84.04</td>\n      <td>94.6%</td>\n      <td>95.9%</td>\n      <td>90.5%</td>\n    </tr>\n    <tr>\n      <th>Rodriguez High School</th>\n      <td>District</td>\n      <td>3999</td>\n      <td>$2,547,363.00</td>\n      <td>$637.00</td>\n      <td>76.84</td>\n      <td>80.74</td>\n      <td>66.4%</td>\n      <td>80.2%</td>\n      <td>53.0%</td>\n    </tr>\n    <tr>\n      <th>Shelton High School</th>\n      <td>Charter</td>\n      <td>1761</td>\n      <td>$1,056,600.00</td>\n      <td>$600.00</td>\n      <td>83.36</td>\n      <td>83.73</td>\n      <td>93.9%</td>\n      <td>95.9%</td>\n      <td>89.9%</td>\n    </tr>\n    <tr>\n      <th>Thomas High School</th>\n      <td>Charter</td>\n      <td>1635</td>\n      <td>$1,043,130.00</td>\n      <td>$638.00</td>\n      <td>83.42</td>\n      <td>83.85</td>\n      <td>93.3%</td>\n      <td>97.3%</td>\n      <td>90.9%</td>\n    </tr>\n    <tr>\n      <th>Wilson High School</th>\n      <td>Charter</td>\n      <td>2283</td>\n      <td>$1,319,574.00</td>\n      <td>$578.00</td>\n      <td>83.27</td>\n      <td>83.99</td>\n      <td>93.9%</td>\n      <td>96.5%</td>\n      <td>90.6%</td>\n    </tr>\n    <tr>\n      <th>Wright High School</th>\n      <td>Charter</td>\n      <td>1800</td>\n      <td>$1,049,400.00</td>\n      <td>$583.00</td>\n      <td>83.68</td>\n      <td>83.96</td>\n      <td>93.3%</td>\n      <td>96.6%</td>\n      <td>90.3%</td>\n    </tr>\n  </tbody>\n</table>\n</div>"
     },
     "metadata": {},
     "execution_count": 35
    }
   ],
   "source": [
    "school_summary_final=pd.DataFrame({\n",
    "                            \"School Type\": school_type,\n",
    "                            \"Total Students\": total_students_per_school,\n",
    "                            \"Total School Budget\": total_school_budget,\n",
    "                            \"Per Student Budget\": per_student_budget,\n",
    "                            \"Average Math Score\": average_math_score_per_school,\n",
    "                            \"Average Reading Score\": average_reading_score_per_school,\n",
    "                            \"% Passing Math\": percent_passing_math_per_school,\n",
    "                            \"% Passing Reading\": percent_passing_reading_per_school,\n",
    "                            \"% Overall Passing\": overall_percent_passing})\n",
    "\n",
    "school_summary_final = school_summary_final [[\n",
    "                                            \"School Type\",\n",
    "                                            \"Total Students\",\n",
    "                                            \"Total School Budget\",\n",
    "                                            \"Per Student Budget\",\n",
    "                                            \"Average Math Score\",\n",
    "                                            \"Average Reading Score\",\n",
    "                                            \"% Passing Math\",\n",
    "                                            \"% Passing Reading\",\n",
    "                                            \"% Overall Passing\"]]\n",
    "\n",
    "school_summary_final[\"Total School Budget\"]=school_summary_final[\"Total School Budget\"].map(\"${:,.2f}\".format)\n",
    "school_summary_final[\"Per Student Budget\"]=school_summary_final[\"Per Student Budget\"].map(\"${:.2f}\".format)\n",
    "school_summary_final[\"% Passing Math\"]=school_summary_final[\"% Passing Math\"].map(\"{:.1%}\".format)\n",
    "school_summary_final[\"% Passing Reading\"]=school_summary_final[\"% Passing Reading\"].map(\"{:.1%}\".format)\n",
    "school_summary_final[\"% Overall Passing\"]=school_summary_final[\"% Overall Passing\"].map(\"{:.1%}\".format)\n",
    "\n",
    "\n",
    "school_summary_final"
   ]
  },
  {
   "cell_type": "code",
   "execution_count": 36,
   "metadata": {},
   "outputs": [
    {
     "output_type": "execute_result",
     "data": {
      "text/plain": "                    School Type  Total Students Total School Budget  \\\nschool_name                                                           \nCabrera High School     Charter            1858       $1,081,356.00   \nThomas High School      Charter            1635       $1,043,130.00   \nGriffin High School     Charter            1468         $917,500.00   \nWilson High School      Charter            2283       $1,319,574.00   \nPena High School        Charter             962         $585,858.00   \n\n                    Per Student Budget  Average Math Score  \\\nschool_name                                                  \nCabrera High School            $582.00               83.06   \nThomas High School             $638.00               83.42   \nGriffin High School            $625.00               83.35   \nWilson High School             $578.00               83.27   \nPena High School               $609.00               83.84   \n\n                     Average Reading Score % Passing Math % Passing Reading  \\\nschool_name                                                                   \nCabrera High School                  83.98          94.1%             97.0%   \nThomas High School                   83.85          93.3%             97.3%   \nGriffin High School                  83.82          93.4%             97.1%   \nWilson High School                   83.99          93.9%             96.5%   \nPena High School                     84.04          94.6%             95.9%   \n\n                    % Overall Passing  \nschool_name                            \nCabrera High School             91.3%  \nThomas High School              90.9%  \nGriffin High School             90.6%  \nWilson High School              90.6%  \nPena High School                90.5%  ",
      "text/html": "<div>\n<style scoped>\n    .dataframe tbody tr th:only-of-type {\n        vertical-align: middle;\n    }\n\n    .dataframe tbody tr th {\n        vertical-align: top;\n    }\n\n    .dataframe thead th {\n        text-align: right;\n    }\n</style>\n<table border=\"1\" class=\"dataframe\">\n  <thead>\n    <tr style=\"text-align: right;\">\n      <th></th>\n      <th>School Type</th>\n      <th>Total Students</th>\n      <th>Total School Budget</th>\n      <th>Per Student Budget</th>\n      <th>Average Math Score</th>\n      <th>Average Reading Score</th>\n      <th>% Passing Math</th>\n      <th>% Passing Reading</th>\n      <th>% Overall Passing</th>\n    </tr>\n    <tr>\n      <th>school_name</th>\n      <th></th>\n      <th></th>\n      <th></th>\n      <th></th>\n      <th></th>\n      <th></th>\n      <th></th>\n      <th></th>\n      <th></th>\n    </tr>\n  </thead>\n  <tbody>\n    <tr>\n      <th>Cabrera High School</th>\n      <td>Charter</td>\n      <td>1858</td>\n      <td>$1,081,356.00</td>\n      <td>$582.00</td>\n      <td>83.06</td>\n      <td>83.98</td>\n      <td>94.1%</td>\n      <td>97.0%</td>\n      <td>91.3%</td>\n    </tr>\n    <tr>\n      <th>Thomas High School</th>\n      <td>Charter</td>\n      <td>1635</td>\n      <td>$1,043,130.00</td>\n      <td>$638.00</td>\n      <td>83.42</td>\n      <td>83.85</td>\n      <td>93.3%</td>\n      <td>97.3%</td>\n      <td>90.9%</td>\n    </tr>\n    <tr>\n      <th>Griffin High School</th>\n      <td>Charter</td>\n      <td>1468</td>\n      <td>$917,500.00</td>\n      <td>$625.00</td>\n      <td>83.35</td>\n      <td>83.82</td>\n      <td>93.4%</td>\n      <td>97.1%</td>\n      <td>90.6%</td>\n    </tr>\n    <tr>\n      <th>Wilson High School</th>\n      <td>Charter</td>\n      <td>2283</td>\n      <td>$1,319,574.00</td>\n      <td>$578.00</td>\n      <td>83.27</td>\n      <td>83.99</td>\n      <td>93.9%</td>\n      <td>96.5%</td>\n      <td>90.6%</td>\n    </tr>\n    <tr>\n      <th>Pena High School</th>\n      <td>Charter</td>\n      <td>962</td>\n      <td>$585,858.00</td>\n      <td>$609.00</td>\n      <td>83.84</td>\n      <td>84.04</td>\n      <td>94.6%</td>\n      <td>95.9%</td>\n      <td>90.5%</td>\n    </tr>\n  </tbody>\n</table>\n</div>"
     },
     "metadata": {},
     "execution_count": 36
    }
   ],
   "source": [
    "top_five_schools=school_summary_final.sort_values (\"% Overall Passing\", ascending=False)\n",
    "top_five_schools.head()"
   ]
  },
  {
   "cell_type": "code",
   "execution_count": 37,
   "metadata": {},
   "outputs": [
    {
     "output_type": "execute_result",
     "data": {
      "text/plain": "                      School Type  Total Students Total School Budget  \\\nschool_name                                                             \nRodriguez High School    District            3999       $2,547,363.00   \nFigueroa High School     District            2949       $1,884,411.00   \nHernandez High School    District            4635       $3,022,020.00   \nHuang High School        District            2917       $1,910,635.00   \nJohnson High School      District            4761       $3,094,650.00   \n\n                      Per Student Budget  Average Math Score  \\\nschool_name                                                    \nRodriguez High School            $637.00               76.84   \nFigueroa High School             $639.00               76.71   \nHernandez High School            $652.00               77.29   \nHuang High School                $655.00               76.63   \nJohnson High School              $650.00               77.07   \n\n                       Average Reading Score % Passing Math % Passing Reading  \\\nschool_name                                                                     \nRodriguez High School                  80.74          66.4%             80.2%   \nFigueroa High School                   81.16          66.0%             80.7%   \nHernandez High School                  80.93          66.8%             80.9%   \nHuang High School                      81.18          65.7%             81.3%   \nJohnson High School                    80.97          66.1%             81.2%   \n\n                      % Overall Passing  \nschool_name                              \nRodriguez High School             53.0%  \nFigueroa High School              53.2%  \nHernandez High School             53.5%  \nHuang High School                 53.5%  \nJohnson High School               53.5%  ",
      "text/html": "<div>\n<style scoped>\n    .dataframe tbody tr th:only-of-type {\n        vertical-align: middle;\n    }\n\n    .dataframe tbody tr th {\n        vertical-align: top;\n    }\n\n    .dataframe thead th {\n        text-align: right;\n    }\n</style>\n<table border=\"1\" class=\"dataframe\">\n  <thead>\n    <tr style=\"text-align: right;\">\n      <th></th>\n      <th>School Type</th>\n      <th>Total Students</th>\n      <th>Total School Budget</th>\n      <th>Per Student Budget</th>\n      <th>Average Math Score</th>\n      <th>Average Reading Score</th>\n      <th>% Passing Math</th>\n      <th>% Passing Reading</th>\n      <th>% Overall Passing</th>\n    </tr>\n    <tr>\n      <th>school_name</th>\n      <th></th>\n      <th></th>\n      <th></th>\n      <th></th>\n      <th></th>\n      <th></th>\n      <th></th>\n      <th></th>\n      <th></th>\n    </tr>\n  </thead>\n  <tbody>\n    <tr>\n      <th>Rodriguez High School</th>\n      <td>District</td>\n      <td>3999</td>\n      <td>$2,547,363.00</td>\n      <td>$637.00</td>\n      <td>76.84</td>\n      <td>80.74</td>\n      <td>66.4%</td>\n      <td>80.2%</td>\n      <td>53.0%</td>\n    </tr>\n    <tr>\n      <th>Figueroa High School</th>\n      <td>District</td>\n      <td>2949</td>\n      <td>$1,884,411.00</td>\n      <td>$639.00</td>\n      <td>76.71</td>\n      <td>81.16</td>\n      <td>66.0%</td>\n      <td>80.7%</td>\n      <td>53.2%</td>\n    </tr>\n    <tr>\n      <th>Hernandez High School</th>\n      <td>District</td>\n      <td>4635</td>\n      <td>$3,022,020.00</td>\n      <td>$652.00</td>\n      <td>77.29</td>\n      <td>80.93</td>\n      <td>66.8%</td>\n      <td>80.9%</td>\n      <td>53.5%</td>\n    </tr>\n    <tr>\n      <th>Huang High School</th>\n      <td>District</td>\n      <td>2917</td>\n      <td>$1,910,635.00</td>\n      <td>$655.00</td>\n      <td>76.63</td>\n      <td>81.18</td>\n      <td>65.7%</td>\n      <td>81.3%</td>\n      <td>53.5%</td>\n    </tr>\n    <tr>\n      <th>Johnson High School</th>\n      <td>District</td>\n      <td>4761</td>\n      <td>$3,094,650.00</td>\n      <td>$650.00</td>\n      <td>77.07</td>\n      <td>80.97</td>\n      <td>66.1%</td>\n      <td>81.2%</td>\n      <td>53.5%</td>\n    </tr>\n  </tbody>\n</table>\n</div>"
     },
     "metadata": {},
     "execution_count": 37
    }
   ],
   "source": [
    "bottom_five_schools=school_summary_final.sort_values(\"% Overall Passing\", ascending=True)\n",
    "bottom_five_schools.head()"
   ]
  },
  {
   "cell_type": "code",
   "execution_count": 39,
   "metadata": {},
   "outputs": [
    {
     "output_type": "execute_result",
     "data": {
      "text/plain": "school_name\nBailey High School       77.083676\nCabrera High School      83.094697\nFigueroa High School     76.403037\nFord High School         77.361345\nGriffin High School      82.044010\nHernandez High School    77.438495\nHolden High School       83.787402\nHuang High School        77.027251\nJohnson High School      77.187857\nPena High School         83.625455\nRodriguez High School    76.859966\nShelton High School      83.420755\nThomas High School       83.590022\nWilson High School       83.085578\nWright High School       83.264706\nName: math_score, dtype: float64"
     },
     "metadata": {},
     "execution_count": 39
    }
   ],
   "source": [
    "ninth_math=school_data_complete.loc[school_data_complete[\"grade\"]==\"9th\"].groupby(\"school_name\")[\"math_score\"].mean()\n",
    "ninth_math"
   ]
  },
  {
   "cell_type": "code",
   "execution_count": 41,
   "metadata": {},
   "outputs": [
    {
     "output_type": "execute_result",
     "data": {
      "text/plain": "school_name\nBailey High School       76.996772\nCabrera High School      83.154506\nFigueroa High School     76.539974\nFord High School         77.672316\nGriffin High School      84.229064\nHernandez High School    77.337408\nHolden High School       83.429825\nHuang High School        75.908735\nJohnson High School      76.691117\nPena High School         83.372000\nRodriguez High School    76.612500\nShelton High School      82.917411\nThomas High School       83.087886\nWilson High School       83.724422\nWright High School       84.010288\nName: math_score, dtype: float64"
     },
     "metadata": {},
     "execution_count": 41
    }
   ],
   "source": [
    "tenth_math=school_data_complete.loc[school_data_complete[\"grade\"]==\"10th\"].groupby(\"school_name\")[\"math_score\"].mean()\n",
    "tenth_math"
   ]
  },
  {
   "cell_type": "code",
   "execution_count": 42,
   "metadata": {},
   "outputs": [
    {
     "output_type": "execute_result",
     "data": {
      "text/plain": "school_name\nBailey High School       77.515588\nCabrera High School      82.765560\nFigueroa High School     76.884344\nFord High School         76.918058\nGriffin High School      83.842105\nHernandez High School    77.136029\nHolden High School       85.000000\nHuang High School        76.446602\nJohnson High School      77.491653\nPena High School         84.328125\nRodriguez High School    76.395626\nShelton High School      83.383495\nThomas High School       83.498795\nWilson High School       83.195326\nWright High School       83.836782\nName: math_score, dtype: float64"
     },
     "metadata": {},
     "execution_count": 42
    }
   ],
   "source": [
    "eleventh_math=school_data_complete.loc[school_data_complete[\"grade\"]==\"11th\"].groupby(\"school_name\")[\"math_score\"].mean()\n",
    "eleventh_math"
   ]
  },
  {
   "cell_type": "code",
   "execution_count": 43,
   "metadata": {},
   "outputs": [
    {
     "output_type": "execute_result",
     "data": {
      "text/plain": "school_name\nBailey High School       76.492218\nCabrera High School      83.277487\nFigueroa High School     77.151369\nFord High School         76.179963\nGriffin High School      83.356164\nHernandez High School    77.186567\nHolden High School       82.855422\nHuang High School        77.225641\nJohnson High School      76.863248\nPena High School         84.121547\nRodriguez High School    77.690748\nShelton High School      83.778976\nThomas High School       83.497041\nWilson High School       83.035794\nWright High School       83.644986\nName: math_score, dtype: float64"
     },
     "metadata": {},
     "execution_count": 43
    }
   ],
   "source": [
    "twelfth_math=school_data_complete.loc[school_data_complete[\"grade\"]==\"12th\"].groupby(\"school_name\")[\"math_score\"].mean()\n",
    "twelfth_math"
   ]
  },
  {
   "cell_type": "code",
   "execution_count": 54,
   "metadata": {},
   "outputs": [
    {
     "output_type": "execute_result",
     "data": {
      "text/plain": "                         9th   10th   11th   12th\nschool_name                                      \nBailey High School     77.08  77.00  77.52  76.49\nCabrera High School    83.09  83.15  82.77  83.28\nFigueroa High School   76.40  76.54  76.88  77.15\nFord High School       77.36  77.67  76.92  76.18\nGriffin High School    82.04  84.23  83.84  83.36\nHernandez High School  77.44  77.34  77.14  77.19\nHolden High School     83.79  83.43  85.00  82.86\nHuang High School      77.03  75.91  76.45  77.23\nJohnson High School    77.19  76.69  77.49  76.86\nPena High School       83.63  83.37  84.33  84.12\nRodriguez High School  76.86  76.61  76.40  77.69\nShelton High School    83.42  82.92  83.38  83.78\nThomas High School     83.59  83.09  83.50  83.50\nWilson High School     83.09  83.72  83.20  83.04\nWright High School     83.26  84.01  83.84  83.64",
      "text/html": "<div>\n<style scoped>\n    .dataframe tbody tr th:only-of-type {\n        vertical-align: middle;\n    }\n\n    .dataframe tbody tr th {\n        vertical-align: top;\n    }\n\n    .dataframe thead th {\n        text-align: right;\n    }\n</style>\n<table border=\"1\" class=\"dataframe\">\n  <thead>\n    <tr style=\"text-align: right;\">\n      <th></th>\n      <th>9th</th>\n      <th>10th</th>\n      <th>11th</th>\n      <th>12th</th>\n    </tr>\n    <tr>\n      <th>school_name</th>\n      <th></th>\n      <th></th>\n      <th></th>\n      <th></th>\n    </tr>\n  </thead>\n  <tbody>\n    <tr>\n      <th>Bailey High School</th>\n      <td>77.08</td>\n      <td>77.00</td>\n      <td>77.52</td>\n      <td>76.49</td>\n    </tr>\n    <tr>\n      <th>Cabrera High School</th>\n      <td>83.09</td>\n      <td>83.15</td>\n      <td>82.77</td>\n      <td>83.28</td>\n    </tr>\n    <tr>\n      <th>Figueroa High School</th>\n      <td>76.40</td>\n      <td>76.54</td>\n      <td>76.88</td>\n      <td>77.15</td>\n    </tr>\n    <tr>\n      <th>Ford High School</th>\n      <td>77.36</td>\n      <td>77.67</td>\n      <td>76.92</td>\n      <td>76.18</td>\n    </tr>\n    <tr>\n      <th>Griffin High School</th>\n      <td>82.04</td>\n      <td>84.23</td>\n      <td>83.84</td>\n      <td>83.36</td>\n    </tr>\n    <tr>\n      <th>Hernandez High School</th>\n      <td>77.44</td>\n      <td>77.34</td>\n      <td>77.14</td>\n      <td>77.19</td>\n    </tr>\n    <tr>\n      <th>Holden High School</th>\n      <td>83.79</td>\n      <td>83.43</td>\n      <td>85.00</td>\n      <td>82.86</td>\n    </tr>\n    <tr>\n      <th>Huang High School</th>\n      <td>77.03</td>\n      <td>75.91</td>\n      <td>76.45</td>\n      <td>77.23</td>\n    </tr>\n    <tr>\n      <th>Johnson High School</th>\n      <td>77.19</td>\n      <td>76.69</td>\n      <td>77.49</td>\n      <td>76.86</td>\n    </tr>\n    <tr>\n      <th>Pena High School</th>\n      <td>83.63</td>\n      <td>83.37</td>\n      <td>84.33</td>\n      <td>84.12</td>\n    </tr>\n    <tr>\n      <th>Rodriguez High School</th>\n      <td>76.86</td>\n      <td>76.61</td>\n      <td>76.40</td>\n      <td>77.69</td>\n    </tr>\n    <tr>\n      <th>Shelton High School</th>\n      <td>83.42</td>\n      <td>82.92</td>\n      <td>83.38</td>\n      <td>83.78</td>\n    </tr>\n    <tr>\n      <th>Thomas High School</th>\n      <td>83.59</td>\n      <td>83.09</td>\n      <td>83.50</td>\n      <td>83.50</td>\n    </tr>\n    <tr>\n      <th>Wilson High School</th>\n      <td>83.09</td>\n      <td>83.72</td>\n      <td>83.20</td>\n      <td>83.04</td>\n    </tr>\n    <tr>\n      <th>Wright High School</th>\n      <td>83.26</td>\n      <td>84.01</td>\n      <td>83.84</td>\n      <td>83.64</td>\n    </tr>\n  </tbody>\n</table>\n</div>"
     },
     "metadata": {},
     "execution_count": 54
    }
   ],
   "source": [
    "math_by_grade=pd.DataFrame({\"9th\":ninth_math,\n",
    "                            \"10th\":tenth_math,\n",
    "                            \"11th\":eleventh_math,\n",
    "                            \"12th\": twelfth_math})\n",
    "\n",
    "\n",
    "math_by_grade[\"9th\"]=math_by_grade[\"9th\"].map(\"{:.2f}\".format)\n",
    "math_by_grade[\"10th\"]=math_by_grade[\"10th\"].map(\"{:.2f}\".format)\n",
    "math_by_grade[\"11th\"]=math_by_grade[\"11th\"].map(\"{:.2f}\".format)\n",
    "math_by_grade[\"12th\"]=math_by_grade[\"12th\"].map(\"{:.2f}\".format)\n",
    "\n",
    "\n",
    "math_by_grade\n",
    "\n"
   ]
  },
  {
   "cell_type": "markdown",
   "metadata": {},
   "source": [
    "## Reading Score by Grade "
   ]
  },
  {
   "cell_type": "markdown",
   "metadata": {},
   "source": [
    "* Perform the same operations as above for reading scores"
   ]
  },
  {
   "cell_type": "code",
   "execution_count": 13,
   "metadata": {},
   "outputs": [
    {
     "data": {
      "text/html": [
       "<div>\n",
       "<style scoped>\n",
       "    .dataframe tbody tr th:only-of-type {\n",
       "        vertical-align: middle;\n",
       "    }\n",
       "\n",
       "    .dataframe tbody tr th {\n",
       "        vertical-align: top;\n",
       "    }\n",
       "\n",
       "    .dataframe thead th {\n",
       "        text-align: right;\n",
       "    }\n",
       "</style>\n",
       "<table border=\"1\" class=\"dataframe\">\n",
       "  <thead>\n",
       "    <tr style=\"text-align: right;\">\n",
       "      <th></th>\n",
       "      <th>9th</th>\n",
       "      <th>10th</th>\n",
       "      <th>11th</th>\n",
       "      <th>12th</th>\n",
       "    </tr>\n",
       "  </thead>\n",
       "  <tbody>\n",
       "    <tr>\n",
       "      <th>Bailey High School</th>\n",
       "      <td>81.303155</td>\n",
       "      <td>80.907183</td>\n",
       "      <td>80.945643</td>\n",
       "      <td>80.912451</td>\n",
       "    </tr>\n",
       "    <tr>\n",
       "      <th>Cabrera High School</th>\n",
       "      <td>83.676136</td>\n",
       "      <td>84.253219</td>\n",
       "      <td>83.788382</td>\n",
       "      <td>84.287958</td>\n",
       "    </tr>\n",
       "    <tr>\n",
       "      <th>Figueroa High School</th>\n",
       "      <td>81.198598</td>\n",
       "      <td>81.408912</td>\n",
       "      <td>80.640339</td>\n",
       "      <td>81.384863</td>\n",
       "    </tr>\n",
       "    <tr>\n",
       "      <th>Ford High School</th>\n",
       "      <td>80.632653</td>\n",
       "      <td>81.262712</td>\n",
       "      <td>80.403642</td>\n",
       "      <td>80.662338</td>\n",
       "    </tr>\n",
       "    <tr>\n",
       "      <th>Griffin High School</th>\n",
       "      <td>83.369193</td>\n",
       "      <td>83.706897</td>\n",
       "      <td>84.288089</td>\n",
       "      <td>84.013699</td>\n",
       "    </tr>\n",
       "    <tr>\n",
       "      <th>Hernandez High School</th>\n",
       "      <td>80.866860</td>\n",
       "      <td>80.660147</td>\n",
       "      <td>81.396140</td>\n",
       "      <td>80.857143</td>\n",
       "    </tr>\n",
       "    <tr>\n",
       "      <th>Holden High School</th>\n",
       "      <td>83.677165</td>\n",
       "      <td>83.324561</td>\n",
       "      <td>83.815534</td>\n",
       "      <td>84.698795</td>\n",
       "    </tr>\n",
       "    <tr>\n",
       "      <th>Huang High School</th>\n",
       "      <td>81.290284</td>\n",
       "      <td>81.512386</td>\n",
       "      <td>81.417476</td>\n",
       "      <td>80.305983</td>\n",
       "    </tr>\n",
       "    <tr>\n",
       "      <th>Johnson High School</th>\n",
       "      <td>81.260714</td>\n",
       "      <td>80.773431</td>\n",
       "      <td>80.616027</td>\n",
       "      <td>81.227564</td>\n",
       "    </tr>\n",
       "    <tr>\n",
       "      <th>Pena High School</th>\n",
       "      <td>83.807273</td>\n",
       "      <td>83.612000</td>\n",
       "      <td>84.335938</td>\n",
       "      <td>84.591160</td>\n",
       "    </tr>\n",
       "    <tr>\n",
       "      <th>Rodriguez High School</th>\n",
       "      <td>80.993127</td>\n",
       "      <td>80.629808</td>\n",
       "      <td>80.864811</td>\n",
       "      <td>80.376426</td>\n",
       "    </tr>\n",
       "    <tr>\n",
       "      <th>Shelton High School</th>\n",
       "      <td>84.122642</td>\n",
       "      <td>83.441964</td>\n",
       "      <td>84.373786</td>\n",
       "      <td>82.781671</td>\n",
       "    </tr>\n",
       "    <tr>\n",
       "      <th>Thomas High School</th>\n",
       "      <td>83.728850</td>\n",
       "      <td>84.254157</td>\n",
       "      <td>83.585542</td>\n",
       "      <td>83.831361</td>\n",
       "    </tr>\n",
       "    <tr>\n",
       "      <th>Wilson High School</th>\n",
       "      <td>83.939778</td>\n",
       "      <td>84.021452</td>\n",
       "      <td>83.764608</td>\n",
       "      <td>84.317673</td>\n",
       "    </tr>\n",
       "    <tr>\n",
       "      <th>Wright High School</th>\n",
       "      <td>83.833333</td>\n",
       "      <td>83.812757</td>\n",
       "      <td>84.156322</td>\n",
       "      <td>84.073171</td>\n",
       "    </tr>\n",
       "  </tbody>\n",
       "</table>\n",
       "</div>"
      ],
      "text/plain": [
       "                             9th       10th       11th       12th\n",
       "Bailey High School     81.303155  80.907183  80.945643  80.912451\n",
       "Cabrera High School    83.676136  84.253219  83.788382  84.287958\n",
       "Figueroa High School   81.198598  81.408912  80.640339  81.384863\n",
       "Ford High School       80.632653  81.262712  80.403642  80.662338\n",
       "Griffin High School    83.369193  83.706897  84.288089  84.013699\n",
       "Hernandez High School  80.866860  80.660147  81.396140  80.857143\n",
       "Holden High School     83.677165  83.324561  83.815534  84.698795\n",
       "Huang High School      81.290284  81.512386  81.417476  80.305983\n",
       "Johnson High School    81.260714  80.773431  80.616027  81.227564\n",
       "Pena High School       83.807273  83.612000  84.335938  84.591160\n",
       "Rodriguez High School  80.993127  80.629808  80.864811  80.376426\n",
       "Shelton High School    84.122642  83.441964  84.373786  82.781671\n",
       "Thomas High School     83.728850  84.254157  83.585542  83.831361\n",
       "Wilson High School     83.939778  84.021452  83.764608  84.317673\n",
       "Wright High School     83.833333  83.812757  84.156322  84.073171"
      ]
     },
     "execution_count": 13,
     "metadata": {},
     "output_type": "execute_result"
    }
   ],
   "source": []
  },
  {
   "cell_type": "markdown",
   "metadata": {},
   "source": [
    "## Scores by School Spending"
   ]
  },
  {
   "cell_type": "markdown",
   "metadata": {},
   "source": [
    "* Create a table that breaks down school performances based on average Spending Ranges (Per Student). Use 4 reasonable bins to group school spending. Include in the table each of the following:\n",
    "  * Average Math Score\n",
    "  * Average Reading Score\n",
    "  * % Passing Math\n",
    "  * % Passing Reading\n",
    "  * Overall Passing Rate (Average of the above two)"
   ]
  },
  {
   "cell_type": "code",
   "execution_count": 18,
   "metadata": {},
   "outputs": [
    {
     "data": {
      "text/html": [
       "<div>\n",
       "<style scoped>\n",
       "    .dataframe tbody tr th:only-of-type {\n",
       "        vertical-align: middle;\n",
       "    }\n",
       "\n",
       "    .dataframe tbody tr th {\n",
       "        vertical-align: top;\n",
       "    }\n",
       "\n",
       "    .dataframe thead th {\n",
       "        text-align: right;\n",
       "    }\n",
       "</style>\n",
       "<table border=\"1\" class=\"dataframe\">\n",
       "  <thead>\n",
       "    <tr style=\"text-align: right;\">\n",
       "      <th></th>\n",
       "      <th>Average Math Score</th>\n",
       "      <th>Average Reading Score</th>\n",
       "      <th>% Passing Math</th>\n",
       "      <th>% Passing Reading</th>\n",
       "      <th>% Overall Passing</th>\n",
       "    </tr>\n",
       "    <tr>\n",
       "      <th>Spending Ranges (Per Student)</th>\n",
       "      <th></th>\n",
       "      <th></th>\n",
       "      <th></th>\n",
       "      <th></th>\n",
       "      <th></th>\n",
       "    </tr>\n",
       "  </thead>\n",
       "  <tbody>\n",
       "    <tr>\n",
       "      <th>&lt;$584</th>\n",
       "      <td>83.46</td>\n",
       "      <td>83.93</td>\n",
       "      <td>93.46</td>\n",
       "      <td>96.61</td>\n",
       "      <td>90.37</td>\n",
       "    </tr>\n",
       "    <tr>\n",
       "      <th>$585-629</th>\n",
       "      <td>81.90</td>\n",
       "      <td>83.16</td>\n",
       "      <td>87.13</td>\n",
       "      <td>92.72</td>\n",
       "      <td>81.42</td>\n",
       "    </tr>\n",
       "    <tr>\n",
       "      <th>$630-644</th>\n",
       "      <td>78.52</td>\n",
       "      <td>81.62</td>\n",
       "      <td>73.48</td>\n",
       "      <td>84.39</td>\n",
       "      <td>62.86</td>\n",
       "    </tr>\n",
       "    <tr>\n",
       "      <th>$645-675</th>\n",
       "      <td>77.00</td>\n",
       "      <td>81.03</td>\n",
       "      <td>66.16</td>\n",
       "      <td>81.13</td>\n",
       "      <td>53.53</td>\n",
       "    </tr>\n",
       "  </tbody>\n",
       "</table>\n",
       "</div>"
      ],
      "text/plain": [
       "                               Average Math Score  Average Reading Score  \\\n",
       "Spending Ranges (Per Student)                                              \n",
       "<$584                                       83.46                  83.93   \n",
       "$585-629                                    81.90                  83.16   \n",
       "$630-644                                    78.52                  81.62   \n",
       "$645-675                                    77.00                  81.03   \n",
       "\n",
       "                               % Passing Math  % Passing Reading  \\\n",
       "Spending Ranges (Per Student)                                      \n",
       "<$584                                   93.46              96.61   \n",
       "$585-629                                87.13              92.72   \n",
       "$630-644                                73.48              84.39   \n",
       "$645-675                                66.16              81.13   \n",
       "\n",
       "                               % Overall Passing  \n",
       "Spending Ranges (Per Student)                     \n",
       "<$584                                      90.37  \n",
       "$585-629                                   81.42  \n",
       "$630-644                                   62.86  \n",
       "$645-675                                   53.53  "
      ]
     },
     "execution_count": 18,
     "metadata": {},
     "output_type": "execute_result"
    }
   ],
   "source": []
  },
  {
   "cell_type": "markdown",
   "metadata": {},
   "source": [
    "## Scores by School Size"
   ]
  },
  {
   "cell_type": "markdown",
   "metadata": {},
   "source": [
    "* Perform the same operations as above, based on school size."
   ]
  },
  {
   "cell_type": "code",
   "execution_count": 22,
   "metadata": {
    "scrolled": true
   },
   "outputs": [
    {
     "data": {
      "text/html": [
       "<div>\n",
       "<style scoped>\n",
       "    .dataframe tbody tr th:only-of-type {\n",
       "        vertical-align: middle;\n",
       "    }\n",
       "\n",
       "    .dataframe tbody tr th {\n",
       "        vertical-align: top;\n",
       "    }\n",
       "\n",
       "    .dataframe thead th {\n",
       "        text-align: right;\n",
       "    }\n",
       "</style>\n",
       "<table border=\"1\" class=\"dataframe\">\n",
       "  <thead>\n",
       "    <tr style=\"text-align: right;\">\n",
       "      <th></th>\n",
       "      <th>Average Math Score</th>\n",
       "      <th>Average Reading Score</th>\n",
       "      <th>% Passing Math</th>\n",
       "      <th>% Passing Reading</th>\n",
       "      <th>% Overall Passing</th>\n",
       "    </tr>\n",
       "    <tr>\n",
       "      <th>School Size</th>\n",
       "      <th></th>\n",
       "      <th></th>\n",
       "      <th></th>\n",
       "      <th></th>\n",
       "      <th></th>\n",
       "    </tr>\n",
       "  </thead>\n",
       "  <tbody>\n",
       "    <tr>\n",
       "      <th>Small (&lt;1000)</th>\n",
       "      <td>83.821598</td>\n",
       "      <td>83.929843</td>\n",
       "      <td>93.550225</td>\n",
       "      <td>96.099437</td>\n",
       "      <td>89.883853</td>\n",
       "    </tr>\n",
       "    <tr>\n",
       "      <th>Medium (1000-2000)</th>\n",
       "      <td>83.374684</td>\n",
       "      <td>83.864438</td>\n",
       "      <td>93.599695</td>\n",
       "      <td>96.790680</td>\n",
       "      <td>90.621535</td>\n",
       "    </tr>\n",
       "    <tr>\n",
       "      <th>Large (2000-5000)</th>\n",
       "      <td>77.746417</td>\n",
       "      <td>81.344493</td>\n",
       "      <td>69.963361</td>\n",
       "      <td>82.766634</td>\n",
       "      <td>58.286003</td>\n",
       "    </tr>\n",
       "  </tbody>\n",
       "</table>\n",
       "</div>"
      ],
      "text/plain": [
       "                    Average Math Score  Average Reading Score  % Passing Math  \\\n",
       "School Size                                                                     \n",
       "Small (<1000)                83.821598              83.929843       93.550225   \n",
       "Medium (1000-2000)           83.374684              83.864438       93.599695   \n",
       "Large (2000-5000)            77.746417              81.344493       69.963361   \n",
       "\n",
       "                    % Passing Reading  % Overall Passing  \n",
       "School Size                                               \n",
       "Small (<1000)               96.099437          89.883853  \n",
       "Medium (1000-2000)          96.790680          90.621535  \n",
       "Large (2000-5000)           82.766634          58.286003  "
      ]
     },
     "execution_count": 22,
     "metadata": {},
     "output_type": "execute_result"
    }
   ],
   "source": []
  },
  {
   "cell_type": "markdown",
   "metadata": {},
   "source": [
    "## Scores by School Type"
   ]
  },
  {
   "cell_type": "markdown",
   "metadata": {},
   "source": [
    "* Perform the same operations as above, based on school type"
   ]
  },
  {
   "cell_type": "code",
   "execution_count": 24,
   "metadata": {},
   "outputs": [
    {
     "data": {
      "text/html": [
       "<div>\n",
       "<style scoped>\n",
       "    .dataframe tbody tr th:only-of-type {\n",
       "        vertical-align: middle;\n",
       "    }\n",
       "\n",
       "    .dataframe tbody tr th {\n",
       "        vertical-align: top;\n",
       "    }\n",
       "\n",
       "    .dataframe thead th {\n",
       "        text-align: right;\n",
       "    }\n",
       "</style>\n",
       "<table border=\"1\" class=\"dataframe\">\n",
       "  <thead>\n",
       "    <tr style=\"text-align: right;\">\n",
       "      <th></th>\n",
       "      <th>Average Math Score</th>\n",
       "      <th>Average Reading Score</th>\n",
       "      <th>% Passing Math</th>\n",
       "      <th>% Passing Reading</th>\n",
       "      <th>% Overall Passing</th>\n",
       "    </tr>\n",
       "    <tr>\n",
       "      <th>School Type</th>\n",
       "      <th></th>\n",
       "      <th></th>\n",
       "      <th></th>\n",
       "      <th></th>\n",
       "      <th></th>\n",
       "    </tr>\n",
       "  </thead>\n",
       "  <tbody>\n",
       "    <tr>\n",
       "      <th>Charter</th>\n",
       "      <td>83.473852</td>\n",
       "      <td>83.896421</td>\n",
       "      <td>93.620830</td>\n",
       "      <td>96.586489</td>\n",
       "      <td>90.432244</td>\n",
       "    </tr>\n",
       "    <tr>\n",
       "      <th>District</th>\n",
       "      <td>76.956733</td>\n",
       "      <td>80.966636</td>\n",
       "      <td>66.548453</td>\n",
       "      <td>80.799062</td>\n",
       "      <td>53.672208</td>\n",
       "    </tr>\n",
       "  </tbody>\n",
       "</table>\n",
       "</div>"
      ],
      "text/plain": [
       "             Average Math Score  Average Reading Score  % Passing Math  \\\n",
       "School Type                                                              \n",
       "Charter               83.473852              83.896421       93.620830   \n",
       "District              76.956733              80.966636       66.548453   \n",
       "\n",
       "             % Passing Reading  % Overall Passing  \n",
       "School Type                                        \n",
       "Charter              96.586489          90.432244  \n",
       "District             80.799062          53.672208  "
      ]
     },
     "execution_count": 24,
     "metadata": {},
     "output_type": "execute_result"
    }
   ],
   "source": []
  },
  {
   "cell_type": "code",
   "execution_count": null,
   "metadata": {},
   "outputs": [],
   "source": []
  }
 ],
 "metadata": {
  "anaconda-cloud": {},
  "kernel_info": {
   "name": "python3"
  },
  "kernelspec": {
   "display_name": "Python 3",
   "language": "python",
   "name": "python3"
  },
  "language_info": {
   "codemirror_mode": {
    "name": "ipython",
    "version": 3
   },
   "file_extension": ".py",
   "mimetype": "text/x-python",
   "name": "python",
   "nbconvert_exporter": "python",
   "pygments_lexer": "ipython3",
   "version": "3.6.9"
  },
  "latex_envs": {
   "LaTeX_envs_menu_present": true,
   "autoclose": false,
   "autocomplete": true,
   "bibliofile": "biblio.bib",
   "cite_by": "apalike",
   "current_citInitial": 1,
   "eqLabelWithNumbers": true,
   "eqNumInitial": 1,
   "hotkeys": {
    "equation": "Ctrl-E",
    "itemize": "Ctrl-I"
   },
   "labels_anchors": false,
   "latex_user_defs": false,
   "report_style_numbering": false,
   "user_envs_cfg": false
  },
  "nteract": {
   "version": "0.8.4"
  }
 },
 "nbformat": 4,
 "nbformat_minor": 1
}